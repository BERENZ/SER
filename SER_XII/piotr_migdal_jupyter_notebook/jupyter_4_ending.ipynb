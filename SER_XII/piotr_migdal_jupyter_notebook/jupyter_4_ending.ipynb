{
 "cells": [
  {
   "cell_type": "markdown",
   "metadata": {},
   "source": [
    "# Jupyter - further info"
   ]
  },
  {
   "cell_type": "markdown",
   "metadata": {},
   "source": [
    "## My experience\n",
    "\n",
    "\n",
    "### [Python and Spark training by DeepSense.io, San Francisco](http://workshops.deepsense.io/)\n",
    "\n",
    "![](imgs/deepsense_sf_screen.jpg)\n",
    "\n",
    "### [Analiza danych maturalnych](https://github.com/stared/delab-matury)\n",
    "\n",
    "![](imgs/matury_ipython_r.png)\n",
    "\n",
    "### [DELab UW - szkoła letnia analizy danych](https://github.com/DELabUW/szkola-letnia-2015)\n",
    "\n",
    "![](imgs/delab_szkola_projekt.jpg)"
   ]
  },
  {
   "cell_type": "markdown",
   "metadata": {},
   "source": [
    "## Examples\n",
    "\n",
    "Since May 2015 GitHub displays notebook content!\n",
    "\n",
    "* https://github.com/DELabUW/szkola-letnia-2015\n",
    "    * https://github.com/DELabUW/szkola-letnia-2015/blob/master/zajecia/deser_r_ggplot.ipynb\n",
    "* https://github.com/lmart999/GIS/blob/master/SF_GIS_Crime.ipynb\n",
    "* https://github.com/google/deepdream/blob/master/dream.ipynb"
   ]
  },
  {
   "cell_type": "markdown",
   "metadata": {},
   "source": [
    "## Installation\n",
    "\n",
    "There are many ways to install Jupyter. How to do it so it runs **R**? The easiest way (and working on Win, OS X and Linux) is:\n",
    "\n",
    "* install Python with Anaconda distribution (https://www.continuum.io/downloads)\n",
    "* install R with conda (`$ conda install -c r r-essentials`)\n",
    "* run (`$ jupyter notebook`)\n",
    "\n",
    "More info: https://www.continuum.io/blog/developer/jupyter-and-conda-r"
   ]
  },
  {
   "cell_type": "markdown",
   "metadata": {},
   "source": [
    "## Trying\n",
    "\n",
    "Still not sure? You can **[try.jupyter.org](https://try.jupyter.org/)** online!\n",
    "\n",
    "![](imgs/try_jupyter.png)"
   ]
  },
  {
   "cell_type": "markdown",
   "metadata": {},
   "source": [
    "## Questions?\n",
    "\n",
    "Piotr Migdał, http://migdal.wikidot.com, pmigdal@gmail.com"
   ]
  },
  {
   "cell_type": "code",
   "execution_count": null,
   "metadata": {
    "collapsed": true
   },
   "outputs": [],
   "source": []
  }
 ],
 "metadata": {
  "kernelspec": {
   "display_name": "IPython (Python 3)",
   "language": "python",
   "name": "python3"
  },
  "language_info": {
   "codemirror_mode": {
    "name": "ipython",
    "version": 3
   },
   "file_extension": ".py",
   "mimetype": "text/x-python",
   "name": "python",
   "nbconvert_exporter": "python",
   "pygments_lexer": "ipython3",
   "version": "3.4.3"
  }
 },
 "nbformat": 4,
 "nbformat_minor": 0
}
