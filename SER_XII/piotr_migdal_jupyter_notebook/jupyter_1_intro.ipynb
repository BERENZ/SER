{
 "cells": [
  {
   "cell_type": "markdown",
   "metadata": {},
   "source": [
    "# Jupyter - an interactive environment for data science\n",
    "\n",
    "Piotr Migdał, http://migdal.wikidot.com/\n",
    "\n",
    "[Jesienne Spotkanie Entuzjastów R (SER XII)](http://www.meetup.com/Spotkania-Entuzjastow-R-Warsaw-R-Users-Group-Meetup/events/223461951/), 22 Oct 2015"
   ]
  },
  {
   "cell_type": "markdown",
   "metadata": {},
   "source": [
    "## Who am I?\n",
    "\n",
    "quantum physics PhD -> data science freelancer\n",
    "\n",
    "![](imgs/whoami_1.jpg)\n",
    "\n",
    "![](imgs/whoami_2.jpg)"
   ]
  },
  {
   "cell_type": "markdown",
   "metadata": {},
   "source": [
    "## What I do?\n",
    "\n",
    "* data consulting, cleaning, joining, etc\n",
    "* machine learning\n",
    "* interactive visualizations\n",
    "* trainings\n",
    "\n",
    "And I use **Jupyter** (aka **IPython Notebook**) for most of these things."
   ]
  },
  {
   "cell_type": "markdown",
   "metadata": {},
   "source": [
    "## Programming is...\n",
    "\n",
    "* ~~telling computer what to do~~\n",
    "* communication with computer\n",
    "* collaboration with other people"
   ]
  },
  {
   "cell_type": "markdown",
   "metadata": {},
   "source": [
    "## \"Beautiful is better than ugly. Readability counts.\"\n",
    "\n",
    "from [The Zen of Python, by Tim Peters](http://legacy.python.org/dev/peps/pep-0020/)\n",
    "\n",
    "\n",
    "It counts for:\n",
    "\n",
    "* your collaborators\n",
    "* future you\n",
    "* present you reading code by others\n",
    "* aesthetics \n",
    "\n",
    "**Python** (code readability is one of its principles)"
   ]
  },
  {
   "cell_type": "code",
   "execution_count": 17,
   "metadata": {
    "collapsed": false
   },
   "outputs": [
    {
     "name": "stdout",
     "output_type": "stream",
     "text": [
      "0\n",
      "0\n",
      "0\n",
      "6\n",
      "8\n",
      "10\n",
      "12\n"
     ]
    }
   ],
   "source": [
    "for i in range(7):\n",
    "    if i < 3:\n",
    "        print(0)\n",
    "    else:\n",
    "        print(2*i)"
   ]
  },
  {
   "cell_type": "markdown",
   "metadata": {},
   "source": [
    "**PostScript** (not optimized for code readability)\n",
    "\n",
    "```\n",
    "/LatticeHex{\n",
    "\t/spacingX const def\n",
    "\t/spacingY 3 sqrt const mul def\n",
    "\tLattice\n",
    "\tconst 2 div 3 sqrt const mul 2 div translate\n",
    "\tLattice\n",
    "\t0 const 2 div 3 sqrt sub 0 const mul 2 div sub translate\n",
    "} def\n",
    "```"
   ]
  },
  {
   "cell_type": "markdown",
   "metadata": {},
   "source": [
    "While **R** is not the cleanest language, **dplyr** and **ggplot** are not only powerful, but also - highly readable."
   ]
  },
  {
   "cell_type": "markdown",
   "metadata": {},
   "source": [
    "## Interactive environment\n",
    "\n",
    "When working without data, the feedack loop is useful.\n",
    "\n",
    "When working with data, the feedback loop is essential."
   ]
  },
  {
   "cell_type": "markdown",
   "metadata": {},
   "source": [
    "## Jupyter (previously IPython Notebook)\n",
    "\n",
    "* interactive environment\n",
    "* inspired by Mathematica\n",
    "* some convergence with RMarkdown\n",
    "* first for Python, now - language-agnostic (R, Julia, Haskell, Scala, ...)\n",
    "\n",
    "![](imgs/ipython_notebook.png)"
   ]
  },
  {
   "cell_type": "markdown",
   "metadata": {},
   "source": [
    "## Interactive computation\n",
    "\n",
    "Cells for **input** and **output**."
   ]
  },
  {
   "cell_type": "code",
   "execution_count": 18,
   "metadata": {
    "collapsed": false
   },
   "outputs": [
    {
     "data": {
      "text/plain": [
       "5"
      ]
     },
     "execution_count": 18,
     "metadata": {},
     "output_type": "execute_result"
    }
   ],
   "source": [
    "2 + 3"
   ]
  },
  {
   "cell_type": "code",
   "execution_count": 22,
   "metadata": {
    "collapsed": false
   },
   "outputs": [
    {
     "name": "stdout",
     "output_type": "stream",
     "text": [
      "Mom, this PYTHON is beautiful!\n",
      "Mom, this REPTILE is beautiful!\n",
      "Mom, this PENGUIN is beautiful!\n"
     ]
    }
   ],
   "source": [
    "animals = [\"python\", \"reptile\", \"penguin\"]\n",
    "for animal in animals:\n",
    "    print(\"Mom, this {animal_big} is beautiful!\".format(animal_big=animal.upper()))"
   ]
  },
  {
   "cell_type": "code",
   "execution_count": 20,
   "metadata": {
    "collapsed": false
   },
   "outputs": [
    {
     "data": {
      "text/plain": [
       "'penguin'"
      ]
     },
     "execution_count": 20,
     "metadata": {},
     "output_type": "execute_result"
    }
   ],
   "source": [
    "animals[-1]"
   ]
  },
  {
   "cell_type": "markdown",
   "metadata": {},
   "source": [
    "## Markdown blocks\n",
    "\n",
    "\n",
    "We can use Markdown to describe what we are doing. It allows us to use captions (see above) and:\n",
    "\n",
    "* lists\n",
    "  * lists\n",
    "  * lists\n",
    "* [links](https://jupyter.org/)\n",
    "* *italics*\n",
    "* **bold**\n",
    "* ~~strikethrough~~\n",
    "* formulae $\\bar{x} = \\sum_{i=1}^n x_i$,\n",
    "* code `var x = [1, 2, 3];`.\n",
    "\n",
    "Also:\n",
    "\n",
    "> Quotations \n",
    "\n",
    "$$\\LaTeX\\ \\text{code: } \\sum_{k=1}^\\infty \\frac{(-1)^k}{2k-1} = 1 - \\tfrac{1}{3} + \\tfrac{1}{5} + \\ldots = \\frac{\\pi}{4}$$\n"
   ]
  },
  {
   "cell_type": "markdown",
   "metadata": {},
   "source": [
    "## Inline plots"
   ]
  },
  {
   "cell_type": "code",
   "execution_count": 33,
   "metadata": {
    "collapsed": true
   },
   "outputs": [],
   "source": [
    "%matplotlib inline\n",
    "import pandas as pd\n",
    "import matplotlib.pyplot as plt\n",
    "plt.style.use('ggplot')"
   ]
  },
  {
   "cell_type": "code",
   "execution_count": 38,
   "metadata": {
    "collapsed": false
   },
   "outputs": [],
   "source": [
    "kobiety = pd.read_csv(\"data/smiertelnosc_polska_kobiety.csv\", index_col=\"Wiek\")"
   ]
  },
  {
   "cell_type": "code",
   "execution_count": 39,
   "metadata": {
    "collapsed": false
   },
   "outputs": [
    {
     "data": {
      "text/html": [
       "<div>\n",
       "<table border=\"1\" class=\"dataframe\">\n",
       "  <thead>\n",
       "    <tr style=\"text-align: right;\">\n",
       "      <th></th>\n",
       "      <th>1950</th>\n",
       "      <th>1960</th>\n",
       "      <th>1970</th>\n",
       "      <th>1980</th>\n",
       "      <th>1990</th>\n",
       "      <th>2000</th>\n",
       "      <th>2010</th>\n",
       "    </tr>\n",
       "    <tr>\n",
       "      <th>Wiek</th>\n",
       "      <th></th>\n",
       "      <th></th>\n",
       "      <th></th>\n",
       "      <th></th>\n",
       "      <th></th>\n",
       "      <th></th>\n",
       "      <th></th>\n",
       "    </tr>\n",
       "  </thead>\n",
       "  <tbody>\n",
       "    <tr>\n",
       "      <th>0</th>\n",
       "      <td>0.09911</td>\n",
       "      <td>0.04830</td>\n",
       "      <td>0.02902</td>\n",
       "      <td>0.01783</td>\n",
       "      <td>0.01697</td>\n",
       "      <td>0.00733</td>\n",
       "      <td>0.00452</td>\n",
       "    </tr>\n",
       "    <tr>\n",
       "      <th>1</th>\n",
       "      <td>0.02258</td>\n",
       "      <td>0.00637</td>\n",
       "      <td>0.00372</td>\n",
       "      <td>0.00275</td>\n",
       "      <td>0.00209</td>\n",
       "      <td>0.00111</td>\n",
       "      <td>0.00079</td>\n",
       "    </tr>\n",
       "    <tr>\n",
       "      <th>5</th>\n",
       "      <td>0.00667</td>\n",
       "      <td>0.00219</td>\n",
       "      <td>0.00184</td>\n",
       "      <td>0.00158</td>\n",
       "      <td>0.00110</td>\n",
       "      <td>0.00067</td>\n",
       "      <td>0.00050</td>\n",
       "    </tr>\n",
       "    <tr>\n",
       "      <th>10</th>\n",
       "      <td>0.00491</td>\n",
       "      <td>0.00175</td>\n",
       "      <td>0.00149</td>\n",
       "      <td>0.00115</td>\n",
       "      <td>0.00109</td>\n",
       "      <td>0.00071</td>\n",
       "      <td>0.00058</td>\n",
       "    </tr>\n",
       "    <tr>\n",
       "      <th>15</th>\n",
       "      <td>0.00878</td>\n",
       "      <td>0.00277</td>\n",
       "      <td>0.00213</td>\n",
       "      <td>0.00181</td>\n",
       "      <td>0.00172</td>\n",
       "      <td>0.00145</td>\n",
       "      <td>0.00104</td>\n",
       "    </tr>\n",
       "  </tbody>\n",
       "</table>\n",
       "</div>"
      ],
      "text/plain": [
       "         1950     1960     1970     1980     1990     2000     2010\n",
       "Wiek                                                               \n",
       "0     0.09911  0.04830  0.02902  0.01783  0.01697  0.00733  0.00452\n",
       "1     0.02258  0.00637  0.00372  0.00275  0.00209  0.00111  0.00079\n",
       "5     0.00667  0.00219  0.00184  0.00158  0.00110  0.00067  0.00050\n",
       "10    0.00491  0.00175  0.00149  0.00115  0.00109  0.00071  0.00058\n",
       "15    0.00878  0.00277  0.00213  0.00181  0.00172  0.00145  0.00104"
      ]
     },
     "execution_count": 39,
     "metadata": {},
     "output_type": "execute_result"
    }
   ],
   "source": [
    "kobiety.head()"
   ]
  },
  {
   "cell_type": "code",
   "execution_count": 40,
   "metadata": {
    "collapsed": false
   },
   "outputs": [
    {
     "data": {
      "text/plain": [
       "<matplotlib.axes._subplots.AxesSubplot at 0x10bb606d8>"
      ]
     },
     "execution_count": 40,
     "metadata": {},
     "output_type": "execute_result"
    },
    {
     "data": {
      "image/png": "[encoded data removed]",
      "text/plain": [
       "<matplotlib.figure.Figure at 0x10b4e3b70>"
      ]
     },
     "metadata": {},
     "output_type": "display_data"
    }
   ],
   "source": [
    "kobiety.plot(logy=True)"
   ]
  },
  {
   "cell_type": "markdown",
   "metadata": {},
   "source": [
    "## Python + R"
   ]
  },
  {
   "cell_type": "code",
   "execution_count": 41,
   "metadata": {
    "collapsed": true
   },
   "outputs": [],
   "source": [
    "import rpy2"
   ]
  },
  {
   "cell_type": "code",
   "execution_count": 42,
   "metadata": {
    "collapsed": false
   },
   "outputs": [
    {
     "name": "stdout",
     "output_type": "stream",
     "text": [
      "The rpy2.ipython extension is already loaded. To reload it, use:\n",
      "  %reload_ext rpy2.ipython\n"
     ]
    }
   ],
   "source": [
    "%load_ext rpy2.ipython"
   ]
  },
  {
   "cell_type": "code",
   "execution_count": 43,
   "metadata": {
    "collapsed": false
   },
   "outputs": [
    {
     "data": {
      "text/plain": [
       "  Sepal.Length Sepal.Width Petal.Length Petal.Width Species\n",
       "1          5.1         3.5          1.4         0.2  setosa\n",
       "2          4.9         3.0          1.4         0.2  setosa\n",
       "3          4.7         3.2          1.3         0.2  setosa\n",
       "4          4.6         3.1          1.5         0.2  setosa\n",
       "5          5.0         3.6          1.4         0.2  setosa\n",
       "6          5.4         3.9          1.7         0.4  setosa\n"
      ]
     },
     "metadata": {},
     "output_type": "display_data"
    }
   ],
   "source": [
    "%%R\n",
    "head(iris)"
   ]
  },
  {
   "cell_type": "code",
   "execution_count": 44,
   "metadata": {
    "collapsed": false
   },
   "outputs": [
    {
     "data": {
      "text/plain": [
       "[1] 3.057333\n"
      ]
     },
     "metadata": {},
     "output_type": "display_data"
    }
   ],
   "source": [
    "%%R\n",
    "mean(iris$Sepal.Width)"
   ]
  },
  {
   "cell_type": "code",
   "execution_count": null,
   "metadata": {
    "collapsed": true
   },
   "outputs": [],
   "source": []
  }
 ],
 "metadata": {
  "kernelspec": {
   "display_name": "IPython (Python 3)",
   "language": "python",
   "name": "python3"
  },
  "language_info": {
   "codemirror_mode": {
    "name": "ipython",
    "version": 3
   },
   "file_extension": ".py",
   "mimetype": "text/x-python",
   "name": "python",
   "nbconvert_exporter": "python",
   "pygments_lexer": "ipython3",
   "version": "3.4.3"
  }
 },
 "nbformat": 4,
 "nbformat_minor": 0
}
